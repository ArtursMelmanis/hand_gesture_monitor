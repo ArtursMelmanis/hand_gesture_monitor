{
 "cells": [
  {
   "cell_type": "code",
   "execution_count": 3,
   "id": "ca242fce",
   "metadata": {},
   "outputs": [],
   "source": [
    "import sys, pathlib\n",
    "sys.path.append(str(pathlib.Path(\"src\").resolve()))  # add src to module search"
   ]
  },
  {
   "cell_type": "code",
   "execution_count": 4,
   "id": "c5cb87d5",
   "metadata": {},
   "outputs": [
    {
     "ename": "ModuleNotFoundError",
     "evalue": "No module named 'model'",
     "output_type": "error",
     "traceback": [
      "\u001b[1;31m---------------------------------------------------------------------------\u001b[0m",
      "\u001b[1;31mModuleNotFoundError\u001b[0m                       Traceback (most recent call last)",
      "Cell \u001b[1;32mIn[4], line 2\u001b[0m\n\u001b[0;32m      1\u001b[0m \u001b[38;5;28;01mimport\u001b[39;00m\u001b[38;5;250m \u001b[39m\u001b[38;5;21;01mmatplotlib\u001b[39;00m\u001b[38;5;21;01m.\u001b[39;00m\u001b[38;5;21;01mpyplot\u001b[39;00m\u001b[38;5;250m \u001b[39m\u001b[38;5;28;01mas\u001b[39;00m\u001b[38;5;250m \u001b[39m\u001b[38;5;21;01mplt\u001b[39;00m\u001b[38;5;241m,\u001b[39m\u001b[38;5;250m \u001b[39m\u001b[38;5;21;01mglob\u001b[39;00m\u001b[38;5;241m,\u001b[39m\u001b[38;5;250m \u001b[39m\u001b[38;5;21;01mrandom\u001b[39;00m\u001b[38;5;241m,\u001b[39m\u001b[38;5;250m \u001b[39m\u001b[38;5;21;01mcv2\u001b[39;00m\u001b[38;5;241m,\u001b[39m\u001b[38;5;250m \u001b[39m\u001b[38;5;21;01mtorch\u001b[39;00m\u001b[38;5;241m,\u001b[39m\u001b[38;5;250m \u001b[39m\u001b[38;5;21;01mnumpy\u001b[39;00m\u001b[38;5;250m \u001b[39m\u001b[38;5;28;01mas\u001b[39;00m\u001b[38;5;250m \u001b[39m\u001b[38;5;21;01mnp\u001b[39;00m\n\u001b[1;32m----> 2\u001b[0m \u001b[38;5;28;01mfrom\u001b[39;00m\u001b[38;5;250m \u001b[39m\u001b[38;5;21;01mmodel\u001b[39;00m\u001b[38;5;250m \u001b[39m\u001b[38;5;28;01mimport\u001b[39;00m get_model\n\u001b[0;32m      3\u001b[0m \u001b[38;5;28;01mfrom\u001b[39;00m\u001b[38;5;250m \u001b[39m\u001b[38;5;21;01mdataset\u001b[39;00m\u001b[38;5;250m \u001b[39m\u001b[38;5;28;01mimport\u001b[39;00m MEAN, STD, IMG_SIZE\n\u001b[0;32m      5\u001b[0m model \u001b[38;5;241m=\u001b[39m get_model(\u001b[38;5;241m8\u001b[39m, pretrained\u001b[38;5;241m=\u001b[39m\u001b[38;5;28;01mFalse\u001b[39;00m)\u001b[38;5;241m.\u001b[39meval()\n",
      "\u001b[1;31mModuleNotFoundError\u001b[0m: No module named 'model'"
     ]
    }
   ],
   "source": [
    "import matplotlib.pyplot as plt, glob, random, cv2, torch, numpy as np\n",
    "from model import get_model\n",
    "from dataset import MEAN, STD, IMG_SIZE\n",
    "\n",
    "model = get_model(8, pretrained=False).eval()\n",
    "model.load_state_dict(torch.load(\"models/best_cnn.pth\", map_location=\"cpu\"))\n",
    "\n",
    "samples = random.sample(glob.glob(\"data/archive/images/*/*.*\"), 12)\n",
    "plt.figure(figsize=(10,5))\n",
    "for i, p in enumerate(samples, 1):\n",
    "    img = cv2.cvtColor(cv2.imread(p), cv2.COLOR_BGR2RGB)\n",
    "    t = torch.tensor(cv2.resize(img,(IMG_SIZE,IMG_SIZE))).permute(2,0,1)[None].float()/255\n",
    "    t = (t - torch.tensor(MEAN)[:,None,None]) / torch.tensor(STD)[:,None,None]\n",
    "    pred = int(model(t).argmax())\n",
    "    plt.subplot(3,4,i); plt.imshow(img); plt.title(f\"pred {pred}\"); plt.axis(\"off\")\n",
    "plt.tight_layout()"
   ]
  }
 ],
 "metadata": {
  "kernelspec": {
   "display_name": "Python 3",
   "language": "python",
   "name": "python3"
  },
  "language_info": {
   "codemirror_mode": {
    "name": "ipython",
    "version": 3
   },
   "file_extension": ".py",
   "mimetype": "text/x-python",
   "name": "python",
   "nbconvert_exporter": "python",
   "pygments_lexer": "ipython3",
   "version": "3.10.11"
  }
 },
 "nbformat": 4,
 "nbformat_minor": 5
}
